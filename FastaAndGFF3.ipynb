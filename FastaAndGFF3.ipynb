{
 "cells": [
  {
   "cell_type": "markdown",
   "metadata": {},
   "source": [
    "# Genome sequences and genome features\n",
    "\n",
    "In our lecture on August 31st 2015, we discussed how we conceptualize molecules of genomic DNA.\n",
    "Rather than a detailed representation of its various biochemical properties and physical structure, we use a simple abstract representation of the information the DNA contains: a character string.\n",
    "Features of interest within the DNA (such as genes) correspond to particular substrings of our string representation.\n",
    "We discussed the [Fasta format](https://en.wikipedia.org/wiki/FASTA_format) for storing nucleotide or amino acid sequences, and we discussed the [GFF3 format](http://www.sequenceontology.org/gff3.shtml) for annotating features within a sequence.\n",
    "\n",
    "**The take home message of the day**: although DNA is a complex and fascinating molecule, most of the computation we do in genome biology can be reduced to string and interval processing."
   ]
  },
  {
   "cell_type": "markdown",
   "metadata": {},
   "source": [
    "## Practical\n",
    "\n",
    "We spent a few minutes on a practical getting our hands dirty with a simple example.\n",
    "Sequences and annotations used in class are available on GitHub [here](https://github.com/standage/smel-aug2015).\n",
    "If you're curious, the data is from the bacterium [*Sinorhizobium meliloti*](https://en.wikipedia.org/wiki/Sinorhizobium_meliloti), an nitrogen-fixing microbe found in the roots of some plants.\n",
    "\n",
    "Below are the examples we ran in class.\n",
    "You saw me edit the code in place, and if you're using the IPython/Jupyter notebook, that's often how you'll want to work.\n",
    "However, I will duplicate some of the code blocks several times to show how we built up the example."
   ]
  },
  {
   "cell_type": "markdown",
   "metadata": {},
   "source": [
    "### Gene annotations (GFF3 format)"
   ]
  },
  {
   "cell_type": "code",
   "execution_count": 1,
   "metadata": {
    "collapsed": true
   },
   "outputs": [],
   "source": [
    "%matplotlib inline\n",
    "\n",
    "# Take care of all our import statements first\n",
    "import matplotlib.pyplot as plt\n",
    "import numpy"
   ]
  },
  {
   "cell_type": "code",
   "execution_count": 2,
   "metadata": {
    "collapsed": false
   },
   "outputs": [
    {
     "name": "stdout",
     "output_type": "stream",
     "text": [
      "##gff-version   3\n",
      "\n",
      "##sequence-region   Chromosome 1 3654135\n",
      "\n",
      "Chromosome\tena\tgene\t478\t1299\t.\t+\t.\tID=gene:SMc02793;biotype=protein_coding;description=Conserved hypothetical protein;version=1\n",
      "\n",
      "Chromosome\tena\ttranscript\t478\t1299\t.\t+\t.\tID=transcript:CAC41388;Parent=gene:SMc02793;Dbxref=ENA_FEATURE_PROTEIN:AL591688.1:CDS:478..1299,ENA_FEATURE_TRANSCRIPT:AL591688.1:CDS:478..1299,IntEnz:2.7.11.32,IntEnz:2.7.4.27,STRING:266834.SMc02793,UniParc:UPI00000CB8E8,UniProtKB:Q92TF2,NCBI_GP:CAC41388.1;Ontology_term=GO:GO:0004674,GO:GO:0005524,GO:GO:0006470,GO:GO:0016776,GO:GO:0043531;biotype=protein_coding;version=1\n",
      "\n",
      "Chromosome\tena\texon\t478\t1299\t.\t+\t.\tParent=transcript:CAC41388;Name=CAC41388-1;constitutive=1;rank=1\n",
      "\n",
      "Chromosome\tena\tCDS\t478\t1299\t.\t+\t0\tParent=transcript:CAC41388\n",
      "\n",
      "###\n",
      "\n",
      "Chromosome\tena\tgene\t1347\t1946\t.\t+\t.\tID=gene:SMc02792;biotype=protein_coding;description=Septum formation protein Maf;version=1\n",
      "\n",
      "Chromosome\tena\ttranscript\t1347\t1946\t.\t+\t.\tID=transcript:CAC41389;Parent=gene:SMc02792;Dbxref=ENA_FEATURE_PROTEIN:AL591688.1:CDS:1347..1946,ENA_FEATURE_TRANSCRIPT:AL591688.1:CDS:1347..1946,STRING:266834.SMc02792,UniParc:UPI00001390B6,UniProtKB:Q92TF1,NCBI_GP:CAC41389.1;Ontology_term=GO:GO:0005737;biotype=protein_coding;version=1\n",
      "\n",
      "Chromosome\tena\texon\t1347\t1946\t.\t+\t.\tParent=transcript:CAC41389;Name=CAC41389-1;constitutive=1;rank=1\n",
      "\n",
      "Chromosome\tena\tCDS\t1347\t1946\t.\t+\t0\tParent=transcript:CAC41389\n",
      "\n",
      "###\n",
      "\n",
      "Chromosome\tena\tgene\t1939\t2799\t.\t+\t.\tID=gene:SMc02791;Name=aroE1;biotype=protein_coding;description=Probable shikimate 5-dehydrogenase;version=1\n",
      "\n",
      "Chromosome\tena\ttranscript\t1939\t2799\t.\t+\t.\tID=transcript:CAC41390;Parent=gene:SMc02791;Dbxref=ENA_FEATURE_PROTEIN:AL591688.1:CDS:1939..2799,ENA_FEATURE_TRANSCRIPT:AL591688.1:CDS:1939..2799,IntEnz:1.1.1.25,KEGG:00400+1.1.1.25,MetaCyc:ALL-CHORISMATE-PWY,MetaCyc:ARO-PWY,MetaCyc:COMPLETE-ARO-PWY,MetaCyc:PWY-6163,MetaCyc:PWY-6165,MetaCyc:PWY-6628,MetaCyc:PWY-6629,MetaCyc:PWY-6630,Rhea:17737,STRING:266834.SMc02791,UniParc:UPI0000125FF3,UniPathway:UPA00053,UniProtKB:Q92TF0,NCBI_GP:CAC41390.1;Ontology_term=GO:GO:0004764,GO:GO:0009073,GO:GO:0009423,GO:GO:0019632,GO:GO:0050661;biotype=protein_coding;version=1\n",
      "\n",
      "Chromosome\tena\texon\t1939\t2799\t.\t+\t.\tParent=transcript:CAC41390;Name=CAC41390-1;constitutive=1;rank=1\n",
      "\n",
      "Chromosome\tena\tCDS\t1939\t2799\t.\t+\t0\tParent=transcript:CAC41390\n",
      "\n",
      "###\n",
      "\n",
      "Chromosome\tena\tgene\t2796\t3380\t.\t+\t.\tID=gene:SMc02790;Name=coaE;biotype=protein_coding;description=Dephospho-CoA kinase;version=1\n",
      "\n",
      "Chromosome\tena\ttranscript\t2796\t3380\t.\t+\t.\tID=transcript:CAC41391;Parent=gene:SMc02790;Dbxref=ENA_FEATURE_PROTEIN:AL591688.1:CDS:2796..3380,ENA_FEATURE_TRANSCRIPT:AL591688.1:CDS:2796..3380,IntEnz:2.7.1.24,KEGG:00770+2.7.1.24,MetaCyc:COA-PWY,MetaCyc:PANTOSYN-PWY,MetaCyc:PWY-4221,MetaCyc:PWY-4242,Rhea:18245,STRING:266834.SMc02790,UniParc:UPI0000127CF0,UniPathway:UPA00241,UniProtKB:Q92TE9,NCBI_GP:CAC41391.1;Ontology_term=GO:GO:0004140,GO:GO:0005524,GO:GO:0005737,GO:GO:0015937;biotype=protein_coding;version=1\n",
      "\n",
      "Chromosome\tena\texon\t2796\t3380\t.\t+\t.\tParent=transcript:CAC41391;Name=CAC41391-1;constitutive=1;rank=1\n",
      "\n",
      "Chromosome\tena\tCDS\t2796\t3380\t.\t+\t0\tParent=transcript:CAC41391\n",
      "\n",
      "###\n",
      "\n",
      "Chromosome\tena\tgene\t3574\t4302\t.\t+\t.\tID=gene:SMc02789;Name=dnaQ;biotype=protein_coding;description=Probable DNA polymerase III%2C epsilon chain;version=1\n",
      "\n",
      "Chromosome\tena\ttranscript\t3574\t4302\t.\t+\t.\tID=transcript:CAC41392;Parent=gene:SMc02789;Dbxref=ENA_FEATURE_PROTEIN:AL591688.1:CDS:3574..4302,ENA_FEATURE_TRANSCRIPT:AL591688.1:CDS:3574..4302,IntEnz:2.7.7.7,KEGG:00230+2.7.7.7,KEGG:00240+2.7.7.7,STRING:266834.SMc02789,SWISS_MODEL:Q92TE8,UniParc:UPI00000D4793,UniProtKB:Q92TE8,NCBI_GP:CAC41392.1;Ontology_term=GO:GO:0003677,GO:GO:0003887,GO:GO:0004527,GO:GO:0006260;biotype=protein_coding;version=1\n",
      "\n",
      "Chromosome\tena\texon\t3574\t4302\t.\t+\t.\tParent=transcript:CAC41392;Name=CAC41392-1;constitutive=1;rank=1\n",
      "\n",
      "Chromosome\tena\tCDS\t3574\t4302\t.\t+\t0\tParent=transcript:CAC41392\n",
      "\n",
      "###\n",
      "\n"
     ]
    }
   ],
   "source": [
    "# Example 1: read the whole sample file line by line\n",
    "filehandle = open('sample.gff3', 'r')\n",
    "for line in filehandle:\n",
    "    print line"
   ]
  },
  {
   "cell_type": "code",
   "execution_count": 3,
   "metadata": {
    "collapsed": false
   },
   "outputs": [
    {
     "name": "stdout",
     "output_type": "stream",
     "text": [
      "Chromosome\tena\tgene\t478\t1299\t.\t+\t.\tID=gene:SMc02793;biotype=protein_coding;description=Conserved hypothetical protein;version=1\n",
      "Chromosome\tena\tgene\t1347\t1946\t.\t+\t.\tID=gene:SMc02792;biotype=protein_coding;description=Septum formation protein Maf;version=1\n",
      "Chromosome\tena\tgene\t1939\t2799\t.\t+\t.\tID=gene:SMc02791;Name=aroE1;biotype=protein_coding;description=Probable shikimate 5-dehydrogenase;version=1\n",
      "Chromosome\tena\tgene\t2796\t3380\t.\t+\t.\tID=gene:SMc02790;Name=coaE;biotype=protein_coding;description=Dephospho-CoA kinase;version=1\n",
      "Chromosome\tena\tgene\t3574\t4302\t.\t+\t.\tID=gene:SMc02789;Name=dnaQ;biotype=protein_coding;description=Probable DNA polymerase III%2C epsilon chain;version=1\n"
     ]
    }
   ],
   "source": [
    "# Example 2: pull out the gene features, ignore all others\n",
    "fh = open('sample.gff3', 'r')\n",
    "for line in fh:\n",
    "    # This is a crude test, but it works in most cases. If you were\n",
    "    # writing production code you would want to use a robust well-\n",
    "    # tested GFF3 parser.\n",
    "    if '\\tgene\\t' in line:\n",
    "        print line.rstrip()  # Add the .rstrip() to strip whitespace\n",
    "                             # at the end of the line"
   ]
  },
  {
   "cell_type": "code",
   "execution_count": 4,
   "metadata": {
    "collapsed": false
   },
   "outputs": [
    {
     "name": "stdout",
     "output_type": "stream",
     "text": [
      "822\n",
      "600\n",
      "861\n",
      "585\n",
      "729\n"
     ]
    }
   ],
   "source": [
    "# Example 3: calculate length of each gene feature\n",
    "fh = open('sample.gff3', 'r')\n",
    "for line in fh:\n",
    "    if '\\tgene\\t' in line:\n",
    "        values = line.split('\\t')\n",
    "        start = int(values[3])  # fourth value is the start coordinate\n",
    "        end = int(values[4])    # fifth value is the end coordinate\n",
    "        genelength = end - start + 1  # discrete interval length\n",
    "        print genelength"
   ]
  },
  {
   "cell_type": "code",
   "execution_count": 5,
   "metadata": {
    "collapsed": false
   },
   "outputs": [
    {
     "name": "stdout",
     "output_type": "stream",
     "text": [
      "[822, 600, 861, 585, 729]\n"
     ]
    }
   ],
   "source": [
    "# Example 4: store gene lengths in an array/list\n",
    "genelengths = list()\n",
    "fh = open('sample.gff3', 'r')\n",
    "for line in fh:\n",
    "    if '\\tgene\\t' in line:\n",
    "        values = line.split('\\t')\n",
    "        start = int(values[3])\n",
    "        end = int(values[4])\n",
    "        genelength = end - start + 1\n",
    "        genelengths.append(genelength)\n",
    "print genelengths"
   ]
  },
  {
   "cell_type": "code",
   "execution_count": 6,
   "metadata": {
    "collapsed": false
   },
   "outputs": [
    {
     "name": "stdout",
     "output_type": "stream",
     "text": [
      "S. meliloti has 6265 genes\n"
     ]
    }
   ],
   "source": [
    "# Example 5: now, repeat for the entire data set\n",
    "#---------------------------------------------------------------------\n",
    "lengths = list()\n",
    "fh = open('s_meliloti.gff3', 'r')\n",
    "for line in fh:\n",
    "    if '\\tgene\\t' in line:\n",
    "        values = line.split('\\t')\n",
    "        start = int(values[3])\n",
    "        end = int(values[4])\n",
    "        length = end - start + 1\n",
    "        lengths.append(length)\n",
    "print 'S. meliloti has %d genes' % len(lengths)"
   ]
  },
  {
   "cell_type": "code",
   "execution_count": 7,
   "metadata": {
    "collapsed": false
   },
   "outputs": [
    {
     "data": {
      "image/png": "[encoded data removed]",
      "text/plain": [
       "<matplotlib.figure.Figure at 0x113385b50>"
      ]
     },
     "metadata": {},
     "output_type": "display_data"
    }
   ],
   "source": [
    "# Example 6: plot the gene length distribution\n",
    "plot = plt.hist(lengths)"
   ]
  },
  {
   "cell_type": "code",
   "execution_count": 8,
   "metadata": {
    "collapsed": false
   },
   "outputs": [
    {
     "data": {
      "image/png": "[encoded data removed]",
      "text/plain": [
       "<matplotlib.figure.Figure at 0x1134e9910>"
      ]
     },
     "metadata": {},
     "output_type": "display_data"
    }
   ],
   "source": [
    "# Example 7: plot the log-transformed length distribution\n",
    "plot = plt.hist(numpy.log10(lengths))"
   ]
  },
  {
   "cell_type": "code",
   "execution_count": 9,
   "metadata": {
    "collapsed": false
   },
   "outputs": [
    {
     "data": {
      "image/png": "[encoded data removed]",
      "text/plain": [
       "<matplotlib.figure.Figure at 0x11351aad0>"
      ]
     },
     "metadata": {},
     "output_type": "display_data"
    }
   ],
   "source": [
    "# Example 8: increase the resolution of the histogram\n",
    "plot = plt.hist(numpy.log10(lengths), bins=20)"
   ]
  },
  {
   "cell_type": "markdown",
   "metadata": {},
   "source": [
    "### DNA sequences (Fasta format)"
   ]
  },
  {
   "cell_type": "code",
   "execution_count": 10,
   "metadata": {
    "collapsed": true
   },
   "outputs": [],
   "source": [
    "def parse_fasta(data):\n",
    "    \"\"\"\n",
    "    Read DNA, RNA, or protein sequences in Fasta format.\n",
    "\n",
    "    This generator function yields a tuple containing a defline and a sequence\n",
    "    for each record in the Fasta data. Stolen shamelessly from\n",
    "    http://stackoverflow.com/a/7655072/459780.\n",
    "    \"\"\"\n",
    "    name, seq = None, []\n",
    "    for line in data:\n",
    "        line = line.rstrip()\n",
    "        if line.startswith('>'):\n",
    "            if name:\n",
    "                yield (name, ''.join(seq))\n",
    "            name, seq = line, []\n",
    "        else:\n",
    "            seq.append(line)\n",
    "    if name:\n",
    "        yield (name, ''.join(seq))"
   ]
  },
  {
   "cell_type": "code",
   "execution_count": 11,
   "metadata": {
    "collapsed": false
   },
   "outputs": [
    {
     "name": "stdout",
     "output_type": "stream",
     "text": [
      "This is a defline:      >pSymA dna:plasmid plasmid:GCA_000006965.1:pSymA:1:1354226:1\n",
      "This is the seqid:      pSymA\n",
      "First 50 nucleotides:   GGAACTTGGCGGCGTGCCGACCGTAGCTCCGTTGATGCGACCATCTACGG\n",
      "This is a defline:      >pSymB dna:plasmid plasmid:GCA_000006965.1:pSymB:1:1683333:1\n",
      "This is the seqid:      pSymB\n",
      "First 50 nucleotides:   ATGGACATTCAGACGCGTGCCTATCTGCCGCGTATCGCCGGGCTGGCTCT\n",
      "This is a defline:      >Chromosome dna:chromosome chromosome:GCA_000006965.1:Chromosome:1:3654135:1\n",
      "This is the seqid:      Chromosome\n",
      "First 50 nucleotides:   CAGCCAGATGGGGGGAGGGGTGAGCGCTCTCCCGCTCAAAACCTCCAGCA\n"
     ]
    }
   ],
   "source": [
    "for defline, sequence in parse_fasta(open('s_meliloti.fa', 'r')):\n",
    "    print 'This is a defline:      %s' % defline\n",
    "    print 'This is the seqid:      %s' % defline[1:].split()[0]\n",
    "    print 'First 50 nucleotides:   %s' % sequence[0:50]"
   ]
  },
  {
   "cell_type": "code",
   "execution_count": null,
   "metadata": {
    "collapsed": true
   },
   "outputs": [],
   "source": []
  }
 ],
 "metadata": {
  "kernelspec": {
   "display_name": "Python 2",
   "language": "python",
   "name": "python2"
  },
  "language_info": {
   "codemirror_mode": {
    "name": "ipython",
    "version": 2
   },
   "file_extension": ".py",
   "mimetype": "text/x-python",
   "name": "python",
   "nbconvert_exporter": "python",
   "pygments_lexer": "ipython2",
   "version": "2.7.8"
  }
 },
 "nbformat": 4,
 "nbformat_minor": 0
}
